{
  "nbformat": 4,
  "nbformat_minor": 0,
  "metadata": {
    "colab": {
      "private_outputs": true,
      "provenance": [],
      "authorship_tag": "ABX9TyPSYwrK8NuqB4jougAUfFTI",
      "include_colab_link": true
    },
    "kernelspec": {
      "name": "python3",
      "display_name": "Python 3"
    },
    "language_info": {
      "name": "python"
    },
    "accelerator": "GPU",
    "gpuClass": "standard"
  },
  "cells": [
    {
      "cell_type": "markdown",
      "metadata": {
        "id": "view-in-github",
        "colab_type": "text"
      },
      "source": [
        "<a href=\"https://colab.research.google.com/github/aashikrasool/aifactory/blob/main/Ai_anomaly.ipynb\" target=\"_parent\"><img src=\"https://colab.research.google.com/assets/colab-badge.svg\" alt=\"Open In Colab\"/></a>"
      ]
    },
    {
      "cell_type": "code",
      "execution_count": null,
      "metadata": {
        "id": "ahb8Bz9Jkdmb"
      },
      "outputs": [],
      "source": [
        "#this process is for mount data from colab\n",
        "from google.colab import drive\n",
        "drive.mount('/content/drive')"
      ]
    },
    {
      "cell_type": "code",
      "source": [
        "import pandas as pd\n",
        "train_data= pd.read_csv('/content/drive/MyDrive/Dataset/AI_factory/dataset/train_data.csv')\n",
        "test_data=pd.read_csv('/content/drive/MyDrive/Dataset/AI_factory/dataset/test_data.csv')"
      ],
      "metadata": {
        "id": "vSLxtEXXkhhe"
      },
      "execution_count": null,
      "outputs": []
    },
    {
      "cell_type": "code",
      "source": [
        "!pip install --upgrade keras"
      ],
      "metadata": {
        "id": "Jcse3YaqoXuO"
      },
      "execution_count": null,
      "outputs": []
    },
    {
      "cell_type": "code",
      "source": [
        "import numpy as np\n",
        "from keras.models import Sequential\n",
        "from keras.layers import LSTM, Input ,Dropout\n",
        "from keras.layers import Dense \n",
        "from keras.layers import RepeatVector\n",
        "from keras.layers import TimeDistributed\n",
        "import matplotlib.pyplot as plt\n",
        "from sklearn.preprocessing import MinMaxScaler,StandardScaler\n",
        "from keras.models import Model\n",
        "import seaborn as sns\n"
      ],
      "metadata": {
        "id": "5arjtMDFk4g-"
      },
      "execution_count": null,
      "outputs": []
    },
    {
      "cell_type": "code",
      "source": [
        "data_type_0 = train_data[train_data['type'] == 0]\n",
        "data_type_1 =train_data[train_data['type'] == 1]\n",
        "data_type_2 = train_data[train_data['type'] == 2]\n",
        "data_type_3 =train_data[train_data['type'] == 3]\n",
        "data_type_4 = train_data[train_data['type'] == 4]\n",
        "data_type_5 = train_data[train_data['type'] == 5]\n",
        "data_type_6 = train_data[train_data['type'] == 6]\n",
        "data_type_7 = train_data[train_data['type'] == 7]\n",
        "\n",
        "data_test_0 = test_data[test_data['type'] == 0]\n",
        "data_test_1 =test_data[test_data['type'] == 1]\n",
        "data_test_2 = test_data[test_data['type'] == 2]\n",
        "data_test_3 =test_data[test_data['type'] == 3]\n",
        "data_test_4 = test_data[test_data['type'] == 4]\n",
        "data_test_5 = test_data[test_data['type'] == 5]\n",
        "data_test_6 = test_data[test_data['type'] == 6]\n",
        "data_test_7 = test_data[test_data['type'] == 7]"
      ],
      "metadata": {
        "id": "RC7EAnE5oo7F"
      },
      "execution_count": null,
      "outputs": []
    },
    {
      "cell_type": "code",
      "source": [],
      "metadata": {
        "id": "q2M02qBBcCqB"
      },
      "execution_count": null,
      "outputs": []
    },
    {
      "cell_type": "code",
      "source": [
        "cat_1 =[data_type_0 + data_type_4 + data_type_5 + data_type_6 + data_type_7]\n",
        "cat_2= data_type_1\n",
        "cat_3= data_type_2\n",
        "cat_4= data_type_3\n",
        "\n",
        "\n",
        "test_3=data_test_3"
      ],
      "metadata": {
        "id": "FbE0-FQ6miQ-"
      },
      "execution_count": null,
      "outputs": []
    },
    {
      "cell_type": "code",
      "source": [],
      "metadata": {
        "id": "ms-Z1xHKcIiM"
      },
      "execution_count": null,
      "outputs": []
    },
    {
      "cell_type": "code",
      "source": [
        "cat_3"
      ],
      "metadata": {
        "id": "BUcdFVi3rIMt"
      },
      "execution_count": null,
      "outputs": []
    },
    {
      "cell_type": "code",
      "source": [
        "sns.lineplot(x=cat_3['air_inflow'],y=cat_3['motor_current'])"
      ],
      "metadata": {
        "id": "B2Tvqc59rPFO"
      },
      "execution_count": null,
      "outputs": []
    },
    {
      "cell_type": "code",
      "source": [
        "sns.lineplot(x=cat_3['air_inflow'],y=cat_3['motor_rpm'])"
      ],
      "metadata": {
        "id": "YhLGj38CsdPO"
      },
      "execution_count": null,
      "outputs": []
    },
    {
      "cell_type": "code",
      "source": [
        "sns.lineplot(x=cat_3['air_inflow'],y=cat_3['motor_temp'])"
      ],
      "metadata": {
        "id": "9ZRI84RysqN2"
      },
      "execution_count": null,
      "outputs": []
    },
    {
      "cell_type": "code",
      "source": [
        "sns.lineplot(x=cat_3['air_inflow'],y=cat_3['air_end_temp'])"
      ],
      "metadata": {
        "id": "9ng4a7pzrLbt"
      },
      "execution_count": null,
      "outputs": []
    },
    {
      "cell_type": "code",
      "source": [
        "sns.lineplot(x=cat_3['air_inflow'],y=cat_3['motor_vibe'])"
      ],
      "metadata": {
        "id": "uUyNWm3rqt52"
      },
      "execution_count": null,
      "outputs": []
    },
    {
      "cell_type": "code",
      "source": [
        "scaler =StandardScaler()\n",
        "train_scaler = scaler.fit(cat_3)\n",
        "test_scaler=scaler.fit(test_3)"
      ],
      "metadata": {
        "id": "i-DH2VvWuUYG"
      },
      "execution_count": null,
      "outputs": []
    },
    {
      "cell_type": "code",
      "source": [
        "cat_3= scaler.transform(cat_3)\n",
        "test_3=scaler.transform(test_3)"
      ],
      "metadata": {
        "id": "kEXTXB-2vQeW"
      },
      "execution_count": null,
      "outputs": []
    },
    {
      "cell_type": "code",
      "source": [
        "cat_3"
      ],
      "metadata": {
        "id": "hArtcENmvsv2"
      },
      "execution_count": null,
      "outputs": []
    },
    {
      "cell_type": "code",
      "source": [
        "seq_size=24\n",
        "def to_sequences(x, y, seq_size):\n",
        "    x_df = pd.DataFrame(x)\n",
        "    y_df = pd.DataFrame(y)\n",
        "    \n",
        "    x_values = []\n",
        "    y_values = []\n",
        "    \n",
        "    for i in range(len(x_df)-seq_size):\n",
        "        x_values.append(x_df.iloc[i:(i+seq_size)].values)\n",
        "        y_values.append(y_df.iloc[i+seq_size])\n",
        "    return np.array(x_values), np.array(y_values)\n"
      ],
      "metadata": {
        "id": "SOdBQtUVv0Zt"
      },
      "execution_count": null,
      "outputs": []
    },
    {
      "cell_type": "code",
      "source": [
        "trainX,trainY = to_sequences(cat_3,cat_3,seq_size)\n",
        "testX,testY = to_sequences(test_3,test_3,seq_size)"
      ],
      "metadata": {
        "id": "oWbF0iP_0T0p"
      },
      "execution_count": null,
      "outputs": []
    },
    {
      "cell_type": "code",
      "source": [
        "trainX"
      ],
      "metadata": {
        "id": "VLnOKHpdvx8F"
      },
      "execution_count": null,
      "outputs": []
    },
    {
      "cell_type": "code",
      "source": [
        "#Model\n",
        "model = Sequential()\n",
        "model.add(LSTM(128,input_shape=(trainX.shape[1],trainX.shape[2])))\n",
        "model.add(Dropout(rate=0.2))\n",
        "\n",
        "model.add(RepeatVector(trainX.shape[1]))\n",
        "\n",
        "model.add(LSTM(128, return_sequences=True))\n",
        "model.add(Dropout(rate=0.2))\n",
        "model.add(TimeDistributed(Dense(trainX.shape[2])))\n",
        "model.compile(optimizer='adam',loss='mse')\n",
        "model.summary()\n"
      ],
      "metadata": {
        "id": "QF2g8Jb8et30"
      },
      "execution_count": null,
      "outputs": []
    },
    {
      "cell_type": "code",
      "source": [
        "history = model.fit(trainX,trainY, epochs=10 ,batch_size=32,validation_split=0.1,verbose=1)"
      ],
      "metadata": {
        "id": "n-iO5Js6gw3m"
      },
      "execution_count": null,
      "outputs": []
    }
  ]
}